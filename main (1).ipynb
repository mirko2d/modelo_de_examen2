{
 "cells": [
  {
   "cell_type": "markdown",
   "id": "9fee5ee9",
   "metadata": {},
   "source": [
    "# Modelo de Examen Practico - TLP3 - Python para Ciencia de Datos.\n"
   ]
  },
  {
   "cell_type": "markdown",
   "id": "999099d0",
   "metadata": {},
   "source": [
    "**A partir del datasets brindado, realizar los siguientes procedimientos:**\n",
    "\n",
    "* Importar datasets con Pandas.\n",
    "* Explorar los datos con los metodos correspondientes. \n",
    "* Limpieza de los datos (Normalización de datos).\n",
    "* Obtener estadisticas.\n",
    "* Mostrar los datos procesados con graficos utilizando la libreria Matplotlib.\n",
    "* Exportar el contenido a un archivo sqlite utilizando PANDAS.\n",
    "\n",
    "\n",
    "**Importante: Se debe documentar cada procedimiento realizado, siguiendo la siguiente estructura:**\n",
    "\n",
    "1. Celda de Markdown (Documentación)\n",
    "2. Código (Sin comentarios, se debe documentar lo sufiente solo en la celda de markdown)."
   ]
  },
  {
   "cell_type": "markdown",
   "id": "dd91f969",
   "metadata": {},
   "source": [
    "## Actividades: \n",
    "### 1. Importación del Dataset con Pandas\n",
    "\n",
    "En esta sección, se debe utilizar la librería Pandas para cargar el archivo CSV que contiene los datos de las calificaciones en un DataFrame, que es la estructura de datos fundamental para el análisis con Pandas.\n",
    "\n",
    "### 2. Exploración Inicial de los Datos\n",
    "\n",
    "A continuación, se deben emplear métodos de Pandas para obtener una visión general del dataset. Esto incluye mostrar las primeras filas, obtener un resumen de la información del DataFrame (tipos de datos, valores no nulos), y calcular estadísticas descriptivas de las columnas numéricas.\n",
    "\n",
    "### 3. Limpieza y Normalización de los Datos\n",
    "\n",
    "Esta etapa crucial deben aplicar la corrección de diversos errores presentes en el dataset. Se abordarán los valores faltantes, la inconsistencia en el formato de la columna 'Asistencia', los posibles valores atípicos y la normalización de los nombres de estudiantes y materias a un formato consistente (por ejemplo, capitalización).\n",
    "\n",
    "### 4. Obtención de Estadísticas Descriptivas\n",
    "\n",
    "Después de la limpieza, deben calcular nuevamente las estadísticas descriptivas para observar el impacto del proceso de limpieza en los datos numéricos. También se pueden calcular estadísticas específicas por grupo (por ejemplo, promedio de calificaciones por materia).\n",
    "\n",
    "### 5. Visualización de los Datos con Matplotlib\n",
    "\n",
    "En esta sección, deben utilizar la librería Matplotlib para crear visualizaciones que permitan comprender mejor la distribución de las calificaciones y la asistencia. Se generarán histogramas, diagramas de dispersión y gráficos de barras.\n",
    "\n",
    "### 6. Exportación a Archivo SQLite\n",
    "\n",
    "Finalmente, deben utilizar la funcionalidad de Pandas para guardar el DataFrame procesado en una base de datos SQLite. Esto permite almacenar los datos de forma estructurada para su posterior consulta y uso.\n",
    "\n"
   ]
  },
  {
   "cell_type": "code",
   "execution_count": 1,
   "id": "6d031181",
   "metadata": {},
   "outputs": [],
   "source": [
    "import pandas as pd\n",
    "\n",
    "\n"
   ]
  },
  {
   "cell_type": "code",
   "execution_count": 2,
   "id": "23fdb650",
   "metadata": {},
   "outputs": [
    {
     "data": {
      "text/html": [
       "<div>\n",
       "<style scoped>\n",
       "    .dataframe tbody tr th:only-of-type {\n",
       "        vertical-align: middle;\n",
       "    }\n",
       "\n",
       "    .dataframe tbody tr th {\n",
       "        vertical-align: top;\n",
       "    }\n",
       "\n",
       "    .dataframe thead th {\n",
       "        text-align: right;\n",
       "    }\n",
       "</style>\n",
       "<table border=\"1\" class=\"dataframe\">\n",
       "  <thead>\n",
       "    <tr style=\"text-align: right;\">\n",
       "      <th></th>\n",
       "      <th>estudiante</th>\n",
       "      <th>Materia</th>\n",
       "      <th>Parcial 1</th>\n",
       "      <th>Parcial 2</th>\n",
       "      <th>Final</th>\n",
       "      <th>Asistencia</th>\n",
       "    </tr>\n",
       "  </thead>\n",
       "  <tbody>\n",
       "    <tr>\n",
       "      <th>0</th>\n",
       "      <td>ana pérez</td>\n",
       "      <td>matematicas</td>\n",
       "      <td>8</td>\n",
       "      <td>7.5</td>\n",
       "      <td>9</td>\n",
       "      <td>95%</td>\n",
       "    </tr>\n",
       "    <tr>\n",
       "      <th>1</th>\n",
       "      <td>carlos lópez</td>\n",
       "      <td>fisica</td>\n",
       "      <td>6.2</td>\n",
       "      <td>7</td>\n",
       "      <td>NaN</td>\n",
       "      <td>88%</td>\n",
       "    </tr>\n",
       "    <tr>\n",
       "      <th>2</th>\n",
       "      <td>maría gómez</td>\n",
       "      <td>quimica</td>\n",
       "      <td>9</td>\n",
       "      <td>8.8</td>\n",
       "      <td>9.5</td>\n",
       "      <td>100%</td>\n",
       "    </tr>\n",
       "    <tr>\n",
       "      <th>3</th>\n",
       "      <td>pedro rodríguez</td>\n",
       "      <td>historia</td>\n",
       "      <td>7.5</td>\n",
       "      <td>6</td>\n",
       "      <td>7</td>\n",
       "      <td>75</td>\n",
       "    </tr>\n",
       "    <tr>\n",
       "      <th>4</th>\n",
       "      <td>laura vargas</td>\n",
       "      <td>matematicas</td>\n",
       "      <td></td>\n",
       "      <td>9.2</td>\n",
       "      <td>8.5</td>\n",
       "      <td>92%</td>\n",
       "    </tr>\n",
       "  </tbody>\n",
       "</table>\n",
       "</div>"
      ],
      "text/plain": [
       "        estudiante      Materia Parcial 1 Parcial 2 Final Asistencia\n",
       "0        ana pérez  matematicas         8       7.5     9        95%\n",
       "1     carlos lópez       fisica       6.2         7   NaN        88%\n",
       "2      maría gómez      quimica         9       8.8   9.5       100%\n",
       "3  pedro rodríguez     historia       7.5         6     7         75\n",
       "4     laura vargas  matematicas                 9.2   8.5        92%"
      ]
     },
     "execution_count": 2,
     "metadata": {},
     "output_type": "execute_result"
    }
   ],
   "source": [
    "df=pd.read_csv ('calificaciones.csv')\n",
    "df.head()"
   ]
  },
  {
   "cell_type": "code",
   "execution_count": 3,
   "id": "81a5dd3b",
   "metadata": {},
   "outputs": [
    {
     "data": {
      "text/plain": [
       "(100, 6)"
      ]
     },
     "execution_count": 3,
     "metadata": {},
     "output_type": "execute_result"
    }
   ],
   "source": [
    "df.shape"
   ]
  },
  {
   "cell_type": "code",
   "execution_count": 4,
   "id": "bef0af67",
   "metadata": {},
   "outputs": [
    {
     "data": {
      "text/plain": [
       "Index(['estudiante', 'Materia', 'Parcial 1', 'Parcial 2', 'Final',\n",
       "       'Asistencia'],\n",
       "      dtype='object')"
      ]
     },
     "execution_count": 4,
     "metadata": {},
     "output_type": "execute_result"
    }
   ],
   "source": [
    "df.columns"
   ]
  },
  {
   "cell_type": "code",
   "execution_count": 5,
   "id": "85d27af6",
   "metadata": {},
   "outputs": [
    {
     "data": {
      "text/plain": [
       "estudiante    object\n",
       "Materia       object\n",
       "Parcial 1     object\n",
       "Parcial 2     object\n",
       "Final         object\n",
       "Asistencia    object\n",
       "dtype: object"
      ]
     },
     "execution_count": 5,
     "metadata": {},
     "output_type": "execute_result"
    }
   ],
   "source": [
    "df.dtypes"
   ]
  },
  {
   "cell_type": "code",
   "execution_count": 6,
   "id": "615ddbad",
   "metadata": {},
   "outputs": [
    {
     "name": "stdout",
     "output_type": "stream",
     "text": [
      "<class 'pandas.core.frame.DataFrame'>\n",
      "RangeIndex: 100 entries, 0 to 99\n",
      "Data columns (total 6 columns):\n",
      " #   Column      Non-Null Count  Dtype \n",
      "---  ------      --------------  ----- \n",
      " 0   estudiante  100 non-null    object\n",
      " 1   Materia     100 non-null    object\n",
      " 2   Parcial 1   95 non-null     object\n",
      " 3   Parcial 2   90 non-null     object\n",
      " 4   Final       89 non-null     object\n",
      " 5   Asistencia  100 non-null    object\n",
      "dtypes: object(6)\n",
      "memory usage: 4.8+ KB\n"
     ]
    }
   ],
   "source": [
    "df.info()"
   ]
  },
  {
   "cell_type": "code",
   "execution_count": 7,
   "id": "80ca20ad",
   "metadata": {},
   "outputs": [
    {
     "data": {
      "text/plain": [
       "estudiante     0\n",
       "Materia        0\n",
       "Parcial 1      5\n",
       "Parcial 2     10\n",
       "Final         11\n",
       "Asistencia     0\n",
       "dtype: int64"
      ]
     },
     "execution_count": 7,
     "metadata": {},
     "output_type": "execute_result"
    }
   ],
   "source": [
    "df.isnull().sum()"
   ]
  },
  {
   "cell_type": "markdown",
   "id": "6badb7c0",
   "metadata": {},
   "source": [
    "pasamos los valores a enteros ignorando los NaN"
   ]
  },
  {
   "cell_type": "code",
   "execution_count": 9,
   "id": "c820183b",
   "metadata": {},
   "outputs": [],
   "source": [
    "df[['Parcial 1', 'Parcial 2', 'Final']] = df[['Parcial 1', 'Parcial 2', 'Final']].apply(pd.to_numeric, errors='coerce')\n"
   ]
  },
  {
   "cell_type": "code",
   "execution_count": 10,
   "id": "7eeb83d0",
   "metadata": {},
   "outputs": [
    {
     "data": {
      "text/html": [
       "<div>\n",
       "<style scoped>\n",
       "    .dataframe tbody tr th:only-of-type {\n",
       "        vertical-align: middle;\n",
       "    }\n",
       "\n",
       "    .dataframe tbody tr th {\n",
       "        vertical-align: top;\n",
       "    }\n",
       "\n",
       "    .dataframe thead th {\n",
       "        text-align: right;\n",
       "    }\n",
       "</style>\n",
       "<table border=\"1\" class=\"dataframe\">\n",
       "  <thead>\n",
       "    <tr style=\"text-align: right;\">\n",
       "      <th></th>\n",
       "      <th>estudiante</th>\n",
       "      <th>Materia</th>\n",
       "      <th>Parcial 1</th>\n",
       "      <th>Parcial 2</th>\n",
       "      <th>Final</th>\n",
       "      <th>Asistencia</th>\n",
       "    </tr>\n",
       "  </thead>\n",
       "  <tbody>\n",
       "    <tr>\n",
       "      <th>0</th>\n",
       "      <td>ana pérez</td>\n",
       "      <td>matematicas</td>\n",
       "      <td>8.0</td>\n",
       "      <td>7.5</td>\n",
       "      <td>9.0</td>\n",
       "      <td>95%</td>\n",
       "    </tr>\n",
       "    <tr>\n",
       "      <th>1</th>\n",
       "      <td>carlos lópez</td>\n",
       "      <td>fisica</td>\n",
       "      <td>6.2</td>\n",
       "      <td>7.0</td>\n",
       "      <td>NaN</td>\n",
       "      <td>88%</td>\n",
       "    </tr>\n",
       "    <tr>\n",
       "      <th>2</th>\n",
       "      <td>maría gómez</td>\n",
       "      <td>quimica</td>\n",
       "      <td>9.0</td>\n",
       "      <td>8.8</td>\n",
       "      <td>9.5</td>\n",
       "      <td>100%</td>\n",
       "    </tr>\n",
       "    <tr>\n",
       "      <th>3</th>\n",
       "      <td>pedro rodríguez</td>\n",
       "      <td>historia</td>\n",
       "      <td>7.5</td>\n",
       "      <td>6.0</td>\n",
       "      <td>7.0</td>\n",
       "      <td>75</td>\n",
       "    </tr>\n",
       "    <tr>\n",
       "      <th>4</th>\n",
       "      <td>laura vargas</td>\n",
       "      <td>matematicas</td>\n",
       "      <td>NaN</td>\n",
       "      <td>9.2</td>\n",
       "      <td>8.5</td>\n",
       "      <td>92%</td>\n",
       "    </tr>\n",
       "  </tbody>\n",
       "</table>\n",
       "</div>"
      ],
      "text/plain": [
       "        estudiante      Materia  Parcial 1  Parcial 2  Final Asistencia\n",
       "0        ana pérez  matematicas        8.0        7.5    9.0        95%\n",
       "1     carlos lópez       fisica        6.2        7.0    NaN        88%\n",
       "2      maría gómez      quimica        9.0        8.8    9.5       100%\n",
       "3  pedro rodríguez     historia        7.5        6.0    7.0         75\n",
       "4     laura vargas  matematicas        NaN        9.2    8.5        92%"
      ]
     },
     "execution_count": 10,
     "metadata": {},
     "output_type": "execute_result"
    }
   ],
   "source": [
    "df.head()"
   ]
  },
  {
   "cell_type": "code",
   "execution_count": 11,
   "id": "d0161537",
   "metadata": {},
   "outputs": [
    {
     "data": {
      "text/html": [
       "<div>\n",
       "<style scoped>\n",
       "    .dataframe tbody tr th:only-of-type {\n",
       "        vertical-align: middle;\n",
       "    }\n",
       "\n",
       "    .dataframe tbody tr th {\n",
       "        vertical-align: top;\n",
       "    }\n",
       "\n",
       "    .dataframe thead th {\n",
       "        text-align: right;\n",
       "    }\n",
       "</style>\n",
       "<table border=\"1\" class=\"dataframe\">\n",
       "  <thead>\n",
       "    <tr style=\"text-align: right;\">\n",
       "      <th></th>\n",
       "      <th>Parcial 1</th>\n",
       "      <th>Parcial 2</th>\n",
       "      <th>Final</th>\n",
       "    </tr>\n",
       "  </thead>\n",
       "  <tbody>\n",
       "    <tr>\n",
       "      <th>count</th>\n",
       "      <td>88.000000</td>\n",
       "      <td>88.000000</td>\n",
       "      <td>85.000000</td>\n",
       "    </tr>\n",
       "    <tr>\n",
       "      <th>mean</th>\n",
       "      <td>7.831818</td>\n",
       "      <td>7.830682</td>\n",
       "      <td>7.894118</td>\n",
       "    </tr>\n",
       "    <tr>\n",
       "      <th>std</th>\n",
       "      <td>1.209877</td>\n",
       "      <td>1.182959</td>\n",
       "      <td>1.206269</td>\n",
       "    </tr>\n",
       "    <tr>\n",
       "      <th>min</th>\n",
       "      <td>5.500000</td>\n",
       "      <td>5.800000</td>\n",
       "      <td>5.700000</td>\n",
       "    </tr>\n",
       "    <tr>\n",
       "      <th>25%</th>\n",
       "      <td>6.975000</td>\n",
       "      <td>6.875000</td>\n",
       "      <td>7.000000</td>\n",
       "    </tr>\n",
       "    <tr>\n",
       "      <th>50%</th>\n",
       "      <td>7.900000</td>\n",
       "      <td>7.700000</td>\n",
       "      <td>7.800000</td>\n",
       "    </tr>\n",
       "    <tr>\n",
       "      <th>75%</th>\n",
       "      <td>8.900000</td>\n",
       "      <td>8.900000</td>\n",
       "      <td>9.000000</td>\n",
       "    </tr>\n",
       "    <tr>\n",
       "      <th>max</th>\n",
       "      <td>9.900000</td>\n",
       "      <td>9.900000</td>\n",
       "      <td>9.900000</td>\n",
       "    </tr>\n",
       "  </tbody>\n",
       "</table>\n",
       "</div>"
      ],
      "text/plain": [
       "       Parcial 1  Parcial 2      Final\n",
       "count  88.000000  88.000000  85.000000\n",
       "mean    7.831818   7.830682   7.894118\n",
       "std     1.209877   1.182959   1.206269\n",
       "min     5.500000   5.800000   5.700000\n",
       "25%     6.975000   6.875000   7.000000\n",
       "50%     7.900000   7.700000   7.800000\n",
       "75%     8.900000   8.900000   9.000000\n",
       "max     9.900000   9.900000   9.900000"
      ]
     },
     "execution_count": 11,
     "metadata": {},
     "output_type": "execute_result"
    }
   ],
   "source": [
    "df.describe()"
   ]
  },
  {
   "cell_type": "code",
   "execution_count": 12,
   "id": "864408a1",
   "metadata": {},
   "outputs": [
    {
     "data": {
      "text/plain": [
       "estudiante     0\n",
       "Materia        0\n",
       "Parcial 1     12\n",
       "Parcial 2     12\n",
       "Final         15\n",
       "Asistencia     0\n",
       "dtype: int64"
      ]
     },
     "execution_count": 12,
     "metadata": {},
     "output_type": "execute_result"
    }
   ],
   "source": [
    "df.isnull().sum()"
   ]
  },
  {
   "cell_type": "code",
   "execution_count": 13,
   "id": "34ab9b79",
   "metadata": {},
   "outputs": [],
   "source": [
    "df[['Parcial 1', 'Parcial 2', 'Final']] = df[['Parcial 1', 'Parcial 2', 'Final']].fillna(df[['Parcial 1', 'Parcial 2', 'Final']].mean())\n"
   ]
  },
  {
   "cell_type": "code",
   "execution_count": 16,
   "id": "ee2f9491",
   "metadata": {},
   "outputs": [
    {
     "data": {
      "text/html": [
       "<div>\n",
       "<style scoped>\n",
       "    .dataframe tbody tr th:only-of-type {\n",
       "        vertical-align: middle;\n",
       "    }\n",
       "\n",
       "    .dataframe tbody tr th {\n",
       "        vertical-align: top;\n",
       "    }\n",
       "\n",
       "    .dataframe thead th {\n",
       "        text-align: right;\n",
       "    }\n",
       "</style>\n",
       "<table border=\"1\" class=\"dataframe\">\n",
       "  <thead>\n",
       "    <tr style=\"text-align: right;\">\n",
       "      <th></th>\n",
       "      <th>estudiante</th>\n",
       "      <th>Materia</th>\n",
       "      <th>Parcial 1</th>\n",
       "      <th>Parcial 2</th>\n",
       "      <th>Final</th>\n",
       "      <th>Asistencia</th>\n",
       "    </tr>\n",
       "  </thead>\n",
       "  <tbody>\n",
       "    <tr>\n",
       "      <th>0</th>\n",
       "      <td>ana pérez</td>\n",
       "      <td>matematicas</td>\n",
       "      <td>8.000000</td>\n",
       "      <td>7.5</td>\n",
       "      <td>9.000000</td>\n",
       "      <td>95%</td>\n",
       "    </tr>\n",
       "    <tr>\n",
       "      <th>1</th>\n",
       "      <td>carlos lópez</td>\n",
       "      <td>fisica</td>\n",
       "      <td>6.200000</td>\n",
       "      <td>7.0</td>\n",
       "      <td>7.894118</td>\n",
       "      <td>88%</td>\n",
       "    </tr>\n",
       "    <tr>\n",
       "      <th>2</th>\n",
       "      <td>maría gómez</td>\n",
       "      <td>quimica</td>\n",
       "      <td>9.000000</td>\n",
       "      <td>8.8</td>\n",
       "      <td>9.500000</td>\n",
       "      <td>100%</td>\n",
       "    </tr>\n",
       "    <tr>\n",
       "      <th>3</th>\n",
       "      <td>pedro rodríguez</td>\n",
       "      <td>historia</td>\n",
       "      <td>7.500000</td>\n",
       "      <td>6.0</td>\n",
       "      <td>7.000000</td>\n",
       "      <td>75</td>\n",
       "    </tr>\n",
       "    <tr>\n",
       "      <th>4</th>\n",
       "      <td>laura vargas</td>\n",
       "      <td>matematicas</td>\n",
       "      <td>7.831818</td>\n",
       "      <td>9.2</td>\n",
       "      <td>8.500000</td>\n",
       "      <td>92%</td>\n",
       "    </tr>\n",
       "  </tbody>\n",
       "</table>\n",
       "</div>"
      ],
      "text/plain": [
       "        estudiante      Materia  Parcial 1  Parcial 2     Final Asistencia\n",
       "0        ana pérez  matematicas   8.000000        7.5  9.000000        95%\n",
       "1     carlos lópez       fisica   6.200000        7.0  7.894118        88%\n",
       "2      maría gómez      quimica   9.000000        8.8  9.500000       100%\n",
       "3  pedro rodríguez     historia   7.500000        6.0  7.000000         75\n",
       "4     laura vargas  matematicas   7.831818        9.2  8.500000        92%"
      ]
     },
     "execution_count": 16,
     "metadata": {},
     "output_type": "execute_result"
    }
   ],
   "source": [
    "df.head()"
   ]
  },
  {
   "cell_type": "markdown",
   "id": "191da0a8",
   "metadata": {},
   "source": [
    "Limpiamos inconsistencia en los datos de la columna asistencia"
   ]
  },
  {
   "cell_type": "code",
   "execution_count": 17,
   "id": "d01d5f4a",
   "metadata": {},
   "outputs": [],
   "source": [
    "df['Asistencia'] = df['Asistencia'].str.replace('%','', regex=False)"
   ]
  },
  {
   "cell_type": "code",
   "execution_count": 18,
   "id": "1c86d727",
   "metadata": {},
   "outputs": [
    {
     "data": {
      "text/html": [
       "<div>\n",
       "<style scoped>\n",
       "    .dataframe tbody tr th:only-of-type {\n",
       "        vertical-align: middle;\n",
       "    }\n",
       "\n",
       "    .dataframe tbody tr th {\n",
       "        vertical-align: top;\n",
       "    }\n",
       "\n",
       "    .dataframe thead th {\n",
       "        text-align: right;\n",
       "    }\n",
       "</style>\n",
       "<table border=\"1\" class=\"dataframe\">\n",
       "  <thead>\n",
       "    <tr style=\"text-align: right;\">\n",
       "      <th></th>\n",
       "      <th>estudiante</th>\n",
       "      <th>Materia</th>\n",
       "      <th>Parcial 1</th>\n",
       "      <th>Parcial 2</th>\n",
       "      <th>Final</th>\n",
       "      <th>Asistencia</th>\n",
       "    </tr>\n",
       "  </thead>\n",
       "  <tbody>\n",
       "    <tr>\n",
       "      <th>0</th>\n",
       "      <td>ana pérez</td>\n",
       "      <td>matematicas</td>\n",
       "      <td>8.000000</td>\n",
       "      <td>7.5</td>\n",
       "      <td>9.000000</td>\n",
       "      <td>95</td>\n",
       "    </tr>\n",
       "    <tr>\n",
       "      <th>1</th>\n",
       "      <td>carlos lópez</td>\n",
       "      <td>fisica</td>\n",
       "      <td>6.200000</td>\n",
       "      <td>7.0</td>\n",
       "      <td>7.894118</td>\n",
       "      <td>88</td>\n",
       "    </tr>\n",
       "    <tr>\n",
       "      <th>2</th>\n",
       "      <td>maría gómez</td>\n",
       "      <td>quimica</td>\n",
       "      <td>9.000000</td>\n",
       "      <td>8.8</td>\n",
       "      <td>9.500000</td>\n",
       "      <td>100</td>\n",
       "    </tr>\n",
       "    <tr>\n",
       "      <th>3</th>\n",
       "      <td>pedro rodríguez</td>\n",
       "      <td>historia</td>\n",
       "      <td>7.500000</td>\n",
       "      <td>6.0</td>\n",
       "      <td>7.000000</td>\n",
       "      <td>75</td>\n",
       "    </tr>\n",
       "    <tr>\n",
       "      <th>4</th>\n",
       "      <td>laura vargas</td>\n",
       "      <td>matematicas</td>\n",
       "      <td>7.831818</td>\n",
       "      <td>9.2</td>\n",
       "      <td>8.500000</td>\n",
       "      <td>92</td>\n",
       "    </tr>\n",
       "  </tbody>\n",
       "</table>\n",
       "</div>"
      ],
      "text/plain": [
       "        estudiante      Materia  Parcial 1  Parcial 2     Final Asistencia\n",
       "0        ana pérez  matematicas   8.000000        7.5  9.000000         95\n",
       "1     carlos lópez       fisica   6.200000        7.0  7.894118         88\n",
       "2      maría gómez      quimica   9.000000        8.8  9.500000        100\n",
       "3  pedro rodríguez     historia   7.500000        6.0  7.000000         75\n",
       "4     laura vargas  matematicas   7.831818        9.2  8.500000         92"
      ]
     },
     "execution_count": 18,
     "metadata": {},
     "output_type": "execute_result"
    }
   ],
   "source": [
    "df.head()"
   ]
  },
  {
   "cell_type": "code",
   "execution_count": 19,
   "id": "7f326bb7",
   "metadata": {},
   "outputs": [
    {
     "data": {
      "text/plain": [
       "estudiante     object\n",
       "Materia        object\n",
       "Parcial 1     float64\n",
       "Parcial 2     float64\n",
       "Final         float64\n",
       "Asistencia     object\n",
       "dtype: object"
      ]
     },
     "execution_count": 19,
     "metadata": {},
     "output_type": "execute_result"
    }
   ],
   "source": [
    "df.dtypes"
   ]
  },
  {
   "cell_type": "markdown",
   "id": "a5918b0f",
   "metadata": {},
   "source": [
    "pasamos la columna asistencia a tipo numerico para luego validar que todos los valores esten en un rango del 0 y 100"
   ]
  },
  {
   "cell_type": "code",
   "execution_count": 20,
   "id": "2821f62c",
   "metadata": {},
   "outputs": [],
   "source": [
    "df['Asistencia'] = pd.to_numeric(df['Asistencia'], errors='coerce')"
   ]
  },
  {
   "cell_type": "code",
   "execution_count": 21,
   "id": "0b39074a",
   "metadata": {},
   "outputs": [
    {
     "data": {
      "text/plain": [
       "estudiante     object\n",
       "Materia        object\n",
       "Parcial 1     float64\n",
       "Parcial 2     float64\n",
       "Final         float64\n",
       "Asistencia      int64\n",
       "dtype: object"
      ]
     },
     "execution_count": 21,
     "metadata": {},
     "output_type": "execute_result"
    }
   ],
   "source": [
    "df.dtypes"
   ]
  },
  {
   "cell_type": "code",
   "execution_count": 22,
   "id": "0c8eebdf",
   "metadata": {},
   "outputs": [],
   "source": [
    "df = df[(df['Asistencia'] >= 0) & (df['Asistencia'] <= 100)]\n"
   ]
  },
  {
   "cell_type": "code",
   "execution_count": 23,
   "id": "9615d390",
   "metadata": {},
   "outputs": [
    {
     "data": {
      "text/html": [
       "<div>\n",
       "<style scoped>\n",
       "    .dataframe tbody tr th:only-of-type {\n",
       "        vertical-align: middle;\n",
       "    }\n",
       "\n",
       "    .dataframe tbody tr th {\n",
       "        vertical-align: top;\n",
       "    }\n",
       "\n",
       "    .dataframe thead th {\n",
       "        text-align: right;\n",
       "    }\n",
       "</style>\n",
       "<table border=\"1\" class=\"dataframe\">\n",
       "  <thead>\n",
       "    <tr style=\"text-align: right;\">\n",
       "      <th></th>\n",
       "      <th>estudiante</th>\n",
       "      <th>Materia</th>\n",
       "      <th>Parcial 1</th>\n",
       "      <th>Parcial 2</th>\n",
       "      <th>Final</th>\n",
       "      <th>Asistencia</th>\n",
       "    </tr>\n",
       "  </thead>\n",
       "  <tbody>\n",
       "    <tr>\n",
       "      <th>0</th>\n",
       "      <td>ana pérez</td>\n",
       "      <td>matematicas</td>\n",
       "      <td>8.000000</td>\n",
       "      <td>7.5</td>\n",
       "      <td>9.000000</td>\n",
       "      <td>95</td>\n",
       "    </tr>\n",
       "    <tr>\n",
       "      <th>1</th>\n",
       "      <td>carlos lópez</td>\n",
       "      <td>fisica</td>\n",
       "      <td>6.200000</td>\n",
       "      <td>7.0</td>\n",
       "      <td>7.894118</td>\n",
       "      <td>88</td>\n",
       "    </tr>\n",
       "    <tr>\n",
       "      <th>2</th>\n",
       "      <td>maría gómez</td>\n",
       "      <td>quimica</td>\n",
       "      <td>9.000000</td>\n",
       "      <td>8.8</td>\n",
       "      <td>9.500000</td>\n",
       "      <td>100</td>\n",
       "    </tr>\n",
       "    <tr>\n",
       "      <th>3</th>\n",
       "      <td>pedro rodríguez</td>\n",
       "      <td>historia</td>\n",
       "      <td>7.500000</td>\n",
       "      <td>6.0</td>\n",
       "      <td>7.000000</td>\n",
       "      <td>75</td>\n",
       "    </tr>\n",
       "    <tr>\n",
       "      <th>4</th>\n",
       "      <td>laura vargas</td>\n",
       "      <td>matematicas</td>\n",
       "      <td>7.831818</td>\n",
       "      <td>9.2</td>\n",
       "      <td>8.500000</td>\n",
       "      <td>92</td>\n",
       "    </tr>\n",
       "  </tbody>\n",
       "</table>\n",
       "</div>"
      ],
      "text/plain": [
       "        estudiante      Materia  Parcial 1  Parcial 2     Final  Asistencia\n",
       "0        ana pérez  matematicas   8.000000        7.5  9.000000          95\n",
       "1     carlos lópez       fisica   6.200000        7.0  7.894118          88\n",
       "2      maría gómez      quimica   9.000000        8.8  9.500000         100\n",
       "3  pedro rodríguez     historia   7.500000        6.0  7.000000          75\n",
       "4     laura vargas  matematicas   7.831818        9.2  8.500000          92"
      ]
     },
     "execution_count": 23,
     "metadata": {},
     "output_type": "execute_result"
    }
   ],
   "source": [
    "df.head()"
   ]
  },
  {
   "cell_type": "code",
   "execution_count": 25,
   "id": "5c94410b",
   "metadata": {},
   "outputs": [
    {
     "data": {
      "text/plain": [
       "(95, 6)"
      ]
     },
     "execution_count": 25,
     "metadata": {},
     "output_type": "execute_result"
    }
   ],
   "source": [
    "df.shape\n"
   ]
  },
  {
   "cell_type": "code",
   "execution_count": 26,
   "id": "50f83193",
   "metadata": {},
   "outputs": [
    {
     "data": {
      "text/plain": [
       "estudiante    0\n",
       "Materia       0\n",
       "Parcial 1     0\n",
       "Parcial 2     0\n",
       "Final         0\n",
       "Asistencia    0\n",
       "dtype: int64"
      ]
     },
     "execution_count": 26,
     "metadata": {},
     "output_type": "execute_result"
    }
   ],
   "source": [
    "df.isnull().sum()"
   ]
  },
  {
   "cell_type": "markdown",
   "id": "8333c6fd",
   "metadata": {},
   "source": [
    "capitalizamos los nombres de estudiantes y materias"
   ]
  },
  {
   "cell_type": "code",
   "execution_count": 27,
   "id": "765499ee",
   "metadata": {},
   "outputs": [
    {
     "data": {
      "text/html": [
       "<div>\n",
       "<style scoped>\n",
       "    .dataframe tbody tr th:only-of-type {\n",
       "        vertical-align: middle;\n",
       "    }\n",
       "\n",
       "    .dataframe tbody tr th {\n",
       "        vertical-align: top;\n",
       "    }\n",
       "\n",
       "    .dataframe thead th {\n",
       "        text-align: right;\n",
       "    }\n",
       "</style>\n",
       "<table border=\"1\" class=\"dataframe\">\n",
       "  <thead>\n",
       "    <tr style=\"text-align: right;\">\n",
       "      <th></th>\n",
       "      <th>estudiante</th>\n",
       "      <th>Materia</th>\n",
       "      <th>Parcial 1</th>\n",
       "      <th>Parcial 2</th>\n",
       "      <th>Final</th>\n",
       "      <th>Asistencia</th>\n",
       "    </tr>\n",
       "  </thead>\n",
       "  <tbody>\n",
       "    <tr>\n",
       "      <th>0</th>\n",
       "      <td>Ana Pérez</td>\n",
       "      <td>Matematicas</td>\n",
       "      <td>8.000000</td>\n",
       "      <td>7.5</td>\n",
       "      <td>9.000000</td>\n",
       "      <td>95</td>\n",
       "    </tr>\n",
       "    <tr>\n",
       "      <th>1</th>\n",
       "      <td>Carlos López</td>\n",
       "      <td>Fisica</td>\n",
       "      <td>6.200000</td>\n",
       "      <td>7.0</td>\n",
       "      <td>7.894118</td>\n",
       "      <td>88</td>\n",
       "    </tr>\n",
       "    <tr>\n",
       "      <th>2</th>\n",
       "      <td>María Gómez</td>\n",
       "      <td>Quimica</td>\n",
       "      <td>9.000000</td>\n",
       "      <td>8.8</td>\n",
       "      <td>9.500000</td>\n",
       "      <td>100</td>\n",
       "    </tr>\n",
       "    <tr>\n",
       "      <th>3</th>\n",
       "      <td>Pedro Rodríguez</td>\n",
       "      <td>Historia</td>\n",
       "      <td>7.500000</td>\n",
       "      <td>6.0</td>\n",
       "      <td>7.000000</td>\n",
       "      <td>75</td>\n",
       "    </tr>\n",
       "    <tr>\n",
       "      <th>4</th>\n",
       "      <td>Laura Vargas</td>\n",
       "      <td>Matematicas</td>\n",
       "      <td>7.831818</td>\n",
       "      <td>9.2</td>\n",
       "      <td>8.500000</td>\n",
       "      <td>92</td>\n",
       "    </tr>\n",
       "  </tbody>\n",
       "</table>\n",
       "</div>"
      ],
      "text/plain": [
       "        estudiante      Materia  Parcial 1  Parcial 2     Final  Asistencia\n",
       "0        Ana Pérez  Matematicas   8.000000        7.5  9.000000          95\n",
       "1     Carlos López       Fisica   6.200000        7.0  7.894118          88\n",
       "2      María Gómez      Quimica   9.000000        8.8  9.500000         100\n",
       "3  Pedro Rodríguez     Historia   7.500000        6.0  7.000000          75\n",
       "4     Laura Vargas  Matematicas   7.831818        9.2  8.500000          92"
      ]
     },
     "execution_count": 27,
     "metadata": {},
     "output_type": "execute_result"
    }
   ],
   "source": [
    "df['estudiante'] = df['estudiante'].str.title()\n",
    "df['Materia'] = df['Materia'].str.title()\n",
    "df.head()"
   ]
  },
  {
   "cell_type": "code",
   "execution_count": 29,
   "id": "0d543958",
   "metadata": {},
   "outputs": [
    {
     "data": {
      "text/html": [
       "<div>\n",
       "<style scoped>\n",
       "    .dataframe tbody tr th:only-of-type {\n",
       "        vertical-align: middle;\n",
       "    }\n",
       "\n",
       "    .dataframe tbody tr th {\n",
       "        vertical-align: top;\n",
       "    }\n",
       "\n",
       "    .dataframe thead th {\n",
       "        text-align: right;\n",
       "    }\n",
       "</style>\n",
       "<table border=\"1\" class=\"dataframe\">\n",
       "  <thead>\n",
       "    <tr style=\"text-align: right;\">\n",
       "      <th></th>\n",
       "      <th>Parcial 1</th>\n",
       "      <th>Parcial 2</th>\n",
       "      <th>Final</th>\n",
       "      <th>Asistencia</th>\n",
       "    </tr>\n",
       "  </thead>\n",
       "  <tbody>\n",
       "    <tr>\n",
       "      <th>count</th>\n",
       "      <td>95.000000</td>\n",
       "      <td>95.000000</td>\n",
       "      <td>95.000000</td>\n",
       "      <td>95.000000</td>\n",
       "    </tr>\n",
       "    <tr>\n",
       "      <th>mean</th>\n",
       "      <td>7.742967</td>\n",
       "      <td>7.752297</td>\n",
       "      <td>7.798019</td>\n",
       "      <td>87.557895</td>\n",
       "    </tr>\n",
       "    <tr>\n",
       "      <th>std</th>\n",
       "      <td>1.091179</td>\n",
       "      <td>1.079623</td>\n",
       "      <td>1.054839</td>\n",
       "      <td>8.203159</td>\n",
       "    </tr>\n",
       "    <tr>\n",
       "      <th>min</th>\n",
       "      <td>5.500000</td>\n",
       "      <td>5.800000</td>\n",
       "      <td>5.700000</td>\n",
       "      <td>70.000000</td>\n",
       "    </tr>\n",
       "    <tr>\n",
       "      <th>25%</th>\n",
       "      <td>7.000000</td>\n",
       "      <td>6.900000</td>\n",
       "      <td>7.050000</td>\n",
       "      <td>81.000000</td>\n",
       "    </tr>\n",
       "    <tr>\n",
       "      <th>50%</th>\n",
       "      <td>7.831818</td>\n",
       "      <td>7.830682</td>\n",
       "      <td>7.894118</td>\n",
       "      <td>88.000000</td>\n",
       "    </tr>\n",
       "    <tr>\n",
       "      <th>75%</th>\n",
       "      <td>8.650000</td>\n",
       "      <td>8.650000</td>\n",
       "      <td>8.650000</td>\n",
       "      <td>95.000000</td>\n",
       "    </tr>\n",
       "    <tr>\n",
       "      <th>max</th>\n",
       "      <td>9.700000</td>\n",
       "      <td>9.900000</td>\n",
       "      <td>9.700000</td>\n",
       "      <td>100.000000</td>\n",
       "    </tr>\n",
       "  </tbody>\n",
       "</table>\n",
       "</div>"
      ],
      "text/plain": [
       "       Parcial 1  Parcial 2      Final  Asistencia\n",
       "count  95.000000  95.000000  95.000000   95.000000\n",
       "mean    7.742967   7.752297   7.798019   87.557895\n",
       "std     1.091179   1.079623   1.054839    8.203159\n",
       "min     5.500000   5.800000   5.700000   70.000000\n",
       "25%     7.000000   6.900000   7.050000   81.000000\n",
       "50%     7.831818   7.830682   7.894118   88.000000\n",
       "75%     8.650000   8.650000   8.650000   95.000000\n",
       "max     9.700000   9.900000   9.700000  100.000000"
      ]
     },
     "execution_count": 29,
     "metadata": {},
     "output_type": "execute_result"
    }
   ],
   "source": [
    "df.describe()"
   ]
  },
  {
   "cell_type": "markdown",
   "id": "a24c72e7",
   "metadata": {},
   "source": [
    "calculamos el promedio de calificaciones por materia"
   ]
  },
  {
   "cell_type": "code",
   "execution_count": 30,
   "id": "5fb144e6",
   "metadata": {},
   "outputs": [
    {
     "name": "stdout",
     "output_type": "stream",
     "text": [
      "                      Parcial 1  Parcial 2     Final\n",
      "Materia                                             \n",
      "Ciencias Sociales      9.500000   9.100000  7.894118\n",
      "Fisica                 6.573295   6.849669  6.624755\n",
      "Historia               7.375000   7.026278  7.482353\n",
      "Literatura Universal   8.000000   7.800000  8.200000\n",
      "Matematicas            8.087636   8.261818  8.471059\n",
      "Programacion Basica    7.831818   5.900000  6.300000\n",
      "Quimica                9.121053   9.163158  8.845820\n"
     ]
    }
   ],
   "source": [
    "prom_por_materia = df.groupby('Materia')[['Parcial 1', 'Parcial 2', 'Final']].mean()\n",
    "print(prom_por_materia)\n"
   ]
  },
  {
   "cell_type": "code",
   "execution_count": 31,
   "id": "19604fc8",
   "metadata": {},
   "outputs": [],
   "source": [
    "import  matplotlib.pyplot as plt"
   ]
  },
  {
   "cell_type": "markdown",
   "id": "b4c1c015",
   "metadata": {},
   "source": [
    "histograma de la columna final\n"
   ]
  },
  {
   "cell_type": "code",
   "execution_count": 32,
   "id": "37e1686d",
   "metadata": {},
   "outputs": [
    {
     "data": {
      "image/png": "[encoded data removed]",
      "text/plain": [
       "<Figure size 640x480 with 1 Axes>"
      ]
     },
     "metadata": {},
     "output_type": "display_data"
    }
   ],
   "source": [
    "plt.hist(df['Final'], bins=10, color='green', edgecolor='black')\n",
    "plt.title('Distribucion de notas finales')\n",
    "plt.xlabel('Nota Final')\n",
    "plt.ylabel('Cantidad de Estudiantes')\n",
    "plt.grid(True)\n",
    "plt.show()\n"
   ]
  },
  {
   "cell_type": "markdown",
   "id": "4277fb74",
   "metadata": {},
   "source": [
    "diagrama de dispersión (scatter plot)"
   ]
  },
  {
   "cell_type": "code",
   "execution_count": 33,
   "id": "a4ffbf80",
   "metadata": {},
   "outputs": [
    {
     "data": {
      "image/png": "[encoded data removed]",
      "text/plain": [
       "<Figure size 640x480 with 1 Axes>"
      ]
     },
     "metadata": {},
     "output_type": "display_data"
    }
   ],
   "source": [
    "\n",
    "plt.scatter(df['Parcial 1'], df['Final'], color='red')\n",
    "plt.title('Parcial 1 vs Nota Final')\n",
    "plt.xlabel('Parcial 1')\n",
    "plt.ylabel('Nota Final')\n",
    "plt.grid(True)\n",
    "plt.show()\n"
   ]
  },
  {
   "cell_type": "markdown",
   "id": "ff508c9f",
   "metadata": {},
   "source": [
    "assistencia vs nota final"
   ]
  },
  {
   "cell_type": "code",
   "execution_count": 37,
   "id": "59e5f014",
   "metadata": {},
   "outputs": [
    {
     "data": {
      "image/png": "[encoded data removed]",
      "text/plain": [
       "<Figure size 640x480 with 1 Axes>"
      ]
     },
     "metadata": {},
     "output_type": "display_data"
    }
   ],
   "source": [
    "\n",
    "plt.scatter(df['Asistencia'], df['Final'], color='blue')\n",
    "plt.title('Asistencia vs Nota Final')\n",
    "plt.xlabel('Asistencia %')\n",
    "plt.ylabel('Nota Final')\n",
    "plt.grid(True)\n",
    "plt.show()\n",
    "\n"
   ]
  },
  {
   "cell_type": "markdown",
   "id": "7a0d099f",
   "metadata": {},
   "source": [
    "Gráfico de barras del promedio de notas finales por materia"
   ]
  },
  {
   "cell_type": "code",
   "execution_count": 39,
   "id": "0699b662",
   "metadata": {},
   "outputs": [
    {
     "data": {
      "image/png": "[encoded data removed]",
      "text/plain": [
       "<Figure size 640x480 with 1 Axes>"
      ]
     },
     "metadata": {},
     "output_type": "display_data"
    }
   ],
   "source": [
    "prom_por_materia['Final'].plot(kind='bar', color='red', edgecolor='black')\n",
    "plt.title('Promedio de Nota Final por Materia')\n",
    "plt.xlabel('Materia')\n",
    "plt.ylabel('Nota Final Promedio')\n",
    "plt.xticks(rotation=45)\n",
    "plt.grid(axis='y')\n",
    "plt.tight_layout()\n",
    "plt.show()\n"
   ]
  },
  {
   "cell_type": "markdown",
   "id": "ccbefcff",
   "metadata": {},
   "source": [
    "importamos el archivo en sqlite3"
   ]
  },
  {
   "cell_type": "code",
   "execution_count": 40,
   "id": "4c029114",
   "metadata": {},
   "outputs": [],
   "source": [
    "import sqlite3\n",
    "conn = sqlite3.connect('bases_datos.db')\n"
   ]
  },
  {
   "cell_type": "markdown",
   "id": "4310987b",
   "metadata": {},
   "source": [
    "guardamos el dataframe en la db"
   ]
  },
  {
   "cell_type": "code",
   "execution_count": 41,
   "id": "70c2e6b5",
   "metadata": {},
   "outputs": [
    {
     "data": {
      "text/plain": [
       "95"
      ]
     },
     "execution_count": 41,
     "metadata": {},
     "output_type": "execute_result"
    }
   ],
   "source": [
    "df.to_sql('Calificaciones', conn, index=False)\n"
   ]
  },
  {
   "cell_type": "code",
   "execution_count": 45,
   "id": "b433b96f",
   "metadata": {},
   "outputs": [
    {
     "name": "stdout",
     "output_type": "stream",
     "text": [
      "         estudiante               Materia  Parcial 1  Parcial 2     Final  \\\n",
      "0         Ana Pérez           Matematicas   8.000000   7.500000  9.000000   \n",
      "1      Carlos López                Fisica   6.200000   7.000000  7.894118   \n",
      "2       María Gómez               Quimica   9.000000   8.800000  9.500000   \n",
      "3   Pedro Rodríguez              Historia   7.500000   6.000000  7.000000   \n",
      "4      Laura Vargas           Matematicas   7.831818   9.200000  8.500000   \n",
      "5       Javier Soto                Fisica   5.800000   6.500000  6.000000   \n",
      "6        Sofia Díaz     Ciencias Sociales   9.500000   9.100000  7.894118   \n",
      "7  Miguel Fernández  Literatura Universal   8.000000   7.800000  8.200000   \n",
      "8    Valentina Ruiz           Matematicas   7.000000   7.830682  7.800000   \n",
      "9      Diego Castro                Fisica   6.800000   7.200000  7.500000   \n",
      "\n",
      "   Asistencia  \n",
      "0          95  \n",
      "1          88  \n",
      "2         100  \n",
      "3          75  \n",
      "4          92  \n",
      "5          80  \n",
      "6          98  \n",
      "7          85  \n",
      "8          90  \n",
      "9          93  \n"
     ]
    }
   ],
   "source": [
    "verificado = pd.read_sql('SELECT * FROM calificaciones', conn)\n",
    "print(verificado.head(10))\n"
   ]
  },
  {
   "cell_type": "code",
   "execution_count": 46,
   "id": "e3b1312b",
   "metadata": {},
   "outputs": [],
   "source": [
    "conn.close()"
   ]
  }
 ],
 "metadata": {
  "kernelspec": {
   "display_name": "Python 3",
   "language": "python",
   "name": "python3"
  },
  "language_info": {
   "codemirror_mode": {
    "name": "ipython",
    "version": 3
   },
   "file_extension": ".py",
   "mimetype": "text/x-python",
   "name": "python",
   "nbconvert_exporter": "python",
   "pygments_lexer": "ipython3",
   "version": "3.10.0"
  }
 },
 "nbformat": 4,
 "nbformat_minor": 5
}
